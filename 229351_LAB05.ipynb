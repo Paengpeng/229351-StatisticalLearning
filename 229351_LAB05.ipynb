{
  "cells": [
    {
      "cell_type": "markdown",
      "metadata": {
        "id": "view-in-github",
        "colab_type": "text"
      },
      "source": [
        "<a href=\"https://colab.research.google.com/github/Paengpeng/229351-StatisticalLearning/blob/main/229351_LAB05.ipynb\" target=\"_parent\"><img src=\"https://colab.research.google.com/assets/colab-badge.svg\" alt=\"Open In Colab\"/></a>"
      ]
    },
    {
      "cell_type": "markdown",
      "metadata": {
        "id": "rUWDxJYaXbGS"
      },
      "source": [
        "ปฏิบัติการครั้งที่ 5 กระบวนวิชา 229351 Statistical Learning for Data Science\n",
        "\n",
        "คำชี้แจง\n",
        "\n",
        "ให้เริ่มทำปฏิบัติการจาก colab notebook ที่กำหนดให้ จากนั้น share แล้วส่ง link มาใน mango.cmu.ac.th"
      ]
    },
    {
      "cell_type": "markdown",
      "metadata": {
        "id": "BFeBRlckOxSG"
      },
      "source": [
        "ดาวน์โหลดข้อมูลรถยนต์ชนิดต่างใน link ข้างล่างนี้\n",
        "https://donlapark.pages.dev/229351/data/Auto.csv\n",
        "หรือรันโค้ดข้างล่าง"
      ]
    },
    {
      "cell_type": "code",
      "execution_count": 1,
      "metadata": {
        "id": "ntO6KNB7A24q",
        "colab": {
          "base_uri": "https://localhost:8080/"
        },
        "outputId": "a32780a7-fef6-41bf-c22f-33751f5e3720"
      },
      "outputs": [
        {
          "output_type": "stream",
          "name": "stdout",
          "text": [
            "--2025-08-13 07:17:38--  https://donlapark.pages.dev/229351/data/Auto.csv\n",
            "Resolving donlapark.pages.dev (donlapark.pages.dev)... 172.66.47.56, 172.66.44.200, 2606:4700:310c::ac42:2cc8, ...\n",
            "Connecting to donlapark.pages.dev (donlapark.pages.dev)|172.66.47.56|:443... connected.\n",
            "HTTP request sent, awaiting response... 200 OK\n",
            "Length: 18079 (18K) [text/csv]\n",
            "Saving to: ‘Auto.csv’\n",
            "\n",
            "\rAuto.csv              0%[                    ]       0  --.-KB/s               \rAuto.csv            100%[===================>]  17.66K  --.-KB/s    in 0s      \n",
            "\n",
            "2025-08-13 07:17:39 (78.1 MB/s) - ‘Auto.csv’ saved [18079/18079]\n",
            "\n"
          ]
        }
      ],
      "source": [
        "!wget https://donlapark.pages.dev/229351/data/Auto.csv"
      ]
    },
    {
      "cell_type": "code",
      "execution_count": 2,
      "metadata": {
        "id": "5Tebr3-dBKxj"
      },
      "outputs": [],
      "source": [
        "import numpy as np\n",
        "import pandas as pd\n",
        "from scipy import stats"
      ]
    },
    {
      "cell_type": "code",
      "execution_count": 3,
      "metadata": {
        "id": "O_4Mr2OWaAae",
        "colab": {
          "base_uri": "https://localhost:8080/",
          "height": 206
        },
        "outputId": "44174253-7afb-41ba-96ff-250774a2c4ed"
      },
      "outputs": [
        {
          "output_type": "execute_result",
          "data": {
            "text/plain": [
              "    mpg  cylinders  displacement  horsepower  weight  acceleration  year  \\\n",
              "0  18.0          8         307.0       130.0    3504          12.0    70   \n",
              "1  15.0          8         350.0       165.0    3693          11.5    70   \n",
              "2  18.0          8         318.0       150.0    3436          11.0    70   \n",
              "3  16.0          8         304.0       150.0    3433          12.0    70   \n",
              "4  17.0          8         302.0       140.0    3449          10.5    70   \n",
              "\n",
              "   origin                       name  \n",
              "0       1  chevrolet chevelle malibu  \n",
              "1       1          buick skylark 320  \n",
              "2       1         plymouth satellite  \n",
              "3       1              amc rebel sst  \n",
              "4       1                ford torino  "
            ],
            "text/html": [
              "\n",
              "  <div id=\"df-c2319a4a-4da0-493b-adef-8f261f8bbeee\" class=\"colab-df-container\">\n",
              "    <div>\n",
              "<style scoped>\n",
              "    .dataframe tbody tr th:only-of-type {\n",
              "        vertical-align: middle;\n",
              "    }\n",
              "\n",
              "    .dataframe tbody tr th {\n",
              "        vertical-align: top;\n",
              "    }\n",
              "\n",
              "    .dataframe thead th {\n",
              "        text-align: right;\n",
              "    }\n",
              "</style>\n",
              "<table border=\"1\" class=\"dataframe\">\n",
              "  <thead>\n",
              "    <tr style=\"text-align: right;\">\n",
              "      <th></th>\n",
              "      <th>mpg</th>\n",
              "      <th>cylinders</th>\n",
              "      <th>displacement</th>\n",
              "      <th>horsepower</th>\n",
              "      <th>weight</th>\n",
              "      <th>acceleration</th>\n",
              "      <th>year</th>\n",
              "      <th>origin</th>\n",
              "      <th>name</th>\n",
              "    </tr>\n",
              "  </thead>\n",
              "  <tbody>\n",
              "    <tr>\n",
              "      <th>0</th>\n",
              "      <td>18.0</td>\n",
              "      <td>8</td>\n",
              "      <td>307.0</td>\n",
              "      <td>130.0</td>\n",
              "      <td>3504</td>\n",
              "      <td>12.0</td>\n",
              "      <td>70</td>\n",
              "      <td>1</td>\n",
              "      <td>chevrolet chevelle malibu</td>\n",
              "    </tr>\n",
              "    <tr>\n",
              "      <th>1</th>\n",
              "      <td>15.0</td>\n",
              "      <td>8</td>\n",
              "      <td>350.0</td>\n",
              "      <td>165.0</td>\n",
              "      <td>3693</td>\n",
              "      <td>11.5</td>\n",
              "      <td>70</td>\n",
              "      <td>1</td>\n",
              "      <td>buick skylark 320</td>\n",
              "    </tr>\n",
              "    <tr>\n",
              "      <th>2</th>\n",
              "      <td>18.0</td>\n",
              "      <td>8</td>\n",
              "      <td>318.0</td>\n",
              "      <td>150.0</td>\n",
              "      <td>3436</td>\n",
              "      <td>11.0</td>\n",
              "      <td>70</td>\n",
              "      <td>1</td>\n",
              "      <td>plymouth satellite</td>\n",
              "    </tr>\n",
              "    <tr>\n",
              "      <th>3</th>\n",
              "      <td>16.0</td>\n",
              "      <td>8</td>\n",
              "      <td>304.0</td>\n",
              "      <td>150.0</td>\n",
              "      <td>3433</td>\n",
              "      <td>12.0</td>\n",
              "      <td>70</td>\n",
              "      <td>1</td>\n",
              "      <td>amc rebel sst</td>\n",
              "    </tr>\n",
              "    <tr>\n",
              "      <th>4</th>\n",
              "      <td>17.0</td>\n",
              "      <td>8</td>\n",
              "      <td>302.0</td>\n",
              "      <td>140.0</td>\n",
              "      <td>3449</td>\n",
              "      <td>10.5</td>\n",
              "      <td>70</td>\n",
              "      <td>1</td>\n",
              "      <td>ford torino</td>\n",
              "    </tr>\n",
              "  </tbody>\n",
              "</table>\n",
              "</div>\n",
              "    <div class=\"colab-df-buttons\">\n",
              "\n",
              "  <div class=\"colab-df-container\">\n",
              "    <button class=\"colab-df-convert\" onclick=\"convertToInteractive('df-c2319a4a-4da0-493b-adef-8f261f8bbeee')\"\n",
              "            title=\"Convert this dataframe to an interactive table.\"\n",
              "            style=\"display:none;\">\n",
              "\n",
              "  <svg xmlns=\"http://www.w3.org/2000/svg\" height=\"24px\" viewBox=\"0 -960 960 960\">\n",
              "    <path d=\"M120-120v-720h720v720H120Zm60-500h600v-160H180v160Zm220 220h160v-160H400v160Zm0 220h160v-160H400v160ZM180-400h160v-160H180v160Zm440 0h160v-160H620v160ZM180-180h160v-160H180v160Zm440 0h160v-160H620v160Z\"/>\n",
              "  </svg>\n",
              "    </button>\n",
              "\n",
              "  <style>\n",
              "    .colab-df-container {\n",
              "      display:flex;\n",
              "      gap: 12px;\n",
              "    }\n",
              "\n",
              "    .colab-df-convert {\n",
              "      background-color: #E8F0FE;\n",
              "      border: none;\n",
              "      border-radius: 50%;\n",
              "      cursor: pointer;\n",
              "      display: none;\n",
              "      fill: #1967D2;\n",
              "      height: 32px;\n",
              "      padding: 0 0 0 0;\n",
              "      width: 32px;\n",
              "    }\n",
              "\n",
              "    .colab-df-convert:hover {\n",
              "      background-color: #E2EBFA;\n",
              "      box-shadow: 0px 1px 2px rgba(60, 64, 67, 0.3), 0px 1px 3px 1px rgba(60, 64, 67, 0.15);\n",
              "      fill: #174EA6;\n",
              "    }\n",
              "\n",
              "    .colab-df-buttons div {\n",
              "      margin-bottom: 4px;\n",
              "    }\n",
              "\n",
              "    [theme=dark] .colab-df-convert {\n",
              "      background-color: #3B4455;\n",
              "      fill: #D2E3FC;\n",
              "    }\n",
              "\n",
              "    [theme=dark] .colab-df-convert:hover {\n",
              "      background-color: #434B5C;\n",
              "      box-shadow: 0px 1px 3px 1px rgba(0, 0, 0, 0.15);\n",
              "      filter: drop-shadow(0px 1px 2px rgba(0, 0, 0, 0.3));\n",
              "      fill: #FFFFFF;\n",
              "    }\n",
              "  </style>\n",
              "\n",
              "    <script>\n",
              "      const buttonEl =\n",
              "        document.querySelector('#df-c2319a4a-4da0-493b-adef-8f261f8bbeee button.colab-df-convert');\n",
              "      buttonEl.style.display =\n",
              "        google.colab.kernel.accessAllowed ? 'block' : 'none';\n",
              "\n",
              "      async function convertToInteractive(key) {\n",
              "        const element = document.querySelector('#df-c2319a4a-4da0-493b-adef-8f261f8bbeee');\n",
              "        const dataTable =\n",
              "          await google.colab.kernel.invokeFunction('convertToInteractive',\n",
              "                                                    [key], {});\n",
              "        if (!dataTable) return;\n",
              "\n",
              "        const docLinkHtml = 'Like what you see? Visit the ' +\n",
              "          '<a target=\"_blank\" href=https://colab.research.google.com/notebooks/data_table.ipynb>data table notebook</a>'\n",
              "          + ' to learn more about interactive tables.';\n",
              "        element.innerHTML = '';\n",
              "        dataTable['output_type'] = 'display_data';\n",
              "        await google.colab.output.renderOutput(dataTable, element);\n",
              "        const docLink = document.createElement('div');\n",
              "        docLink.innerHTML = docLinkHtml;\n",
              "        element.appendChild(docLink);\n",
              "      }\n",
              "    </script>\n",
              "  </div>\n",
              "\n",
              "\n",
              "    <div id=\"df-2d9250f3-e55c-4174-a3e6-7dae2521f22b\">\n",
              "      <button class=\"colab-df-quickchart\" onclick=\"quickchart('df-2d9250f3-e55c-4174-a3e6-7dae2521f22b')\"\n",
              "                title=\"Suggest charts\"\n",
              "                style=\"display:none;\">\n",
              "\n",
              "<svg xmlns=\"http://www.w3.org/2000/svg\" height=\"24px\"viewBox=\"0 0 24 24\"\n",
              "     width=\"24px\">\n",
              "    <g>\n",
              "        <path d=\"M19 3H5c-1.1 0-2 .9-2 2v14c0 1.1.9 2 2 2h14c1.1 0 2-.9 2-2V5c0-1.1-.9-2-2-2zM9 17H7v-7h2v7zm4 0h-2V7h2v10zm4 0h-2v-4h2v4z\"/>\n",
              "    </g>\n",
              "</svg>\n",
              "      </button>\n",
              "\n",
              "<style>\n",
              "  .colab-df-quickchart {\n",
              "      --bg-color: #E8F0FE;\n",
              "      --fill-color: #1967D2;\n",
              "      --hover-bg-color: #E2EBFA;\n",
              "      --hover-fill-color: #174EA6;\n",
              "      --disabled-fill-color: #AAA;\n",
              "      --disabled-bg-color: #DDD;\n",
              "  }\n",
              "\n",
              "  [theme=dark] .colab-df-quickchart {\n",
              "      --bg-color: #3B4455;\n",
              "      --fill-color: #D2E3FC;\n",
              "      --hover-bg-color: #434B5C;\n",
              "      --hover-fill-color: #FFFFFF;\n",
              "      --disabled-bg-color: #3B4455;\n",
              "      --disabled-fill-color: #666;\n",
              "  }\n",
              "\n",
              "  .colab-df-quickchart {\n",
              "    background-color: var(--bg-color);\n",
              "    border: none;\n",
              "    border-radius: 50%;\n",
              "    cursor: pointer;\n",
              "    display: none;\n",
              "    fill: var(--fill-color);\n",
              "    height: 32px;\n",
              "    padding: 0;\n",
              "    width: 32px;\n",
              "  }\n",
              "\n",
              "  .colab-df-quickchart:hover {\n",
              "    background-color: var(--hover-bg-color);\n",
              "    box-shadow: 0 1px 2px rgba(60, 64, 67, 0.3), 0 1px 3px 1px rgba(60, 64, 67, 0.15);\n",
              "    fill: var(--button-hover-fill-color);\n",
              "  }\n",
              "\n",
              "  .colab-df-quickchart-complete:disabled,\n",
              "  .colab-df-quickchart-complete:disabled:hover {\n",
              "    background-color: var(--disabled-bg-color);\n",
              "    fill: var(--disabled-fill-color);\n",
              "    box-shadow: none;\n",
              "  }\n",
              "\n",
              "  .colab-df-spinner {\n",
              "    border: 2px solid var(--fill-color);\n",
              "    border-color: transparent;\n",
              "    border-bottom-color: var(--fill-color);\n",
              "    animation:\n",
              "      spin 1s steps(1) infinite;\n",
              "  }\n",
              "\n",
              "  @keyframes spin {\n",
              "    0% {\n",
              "      border-color: transparent;\n",
              "      border-bottom-color: var(--fill-color);\n",
              "      border-left-color: var(--fill-color);\n",
              "    }\n",
              "    20% {\n",
              "      border-color: transparent;\n",
              "      border-left-color: var(--fill-color);\n",
              "      border-top-color: var(--fill-color);\n",
              "    }\n",
              "    30% {\n",
              "      border-color: transparent;\n",
              "      border-left-color: var(--fill-color);\n",
              "      border-top-color: var(--fill-color);\n",
              "      border-right-color: var(--fill-color);\n",
              "    }\n",
              "    40% {\n",
              "      border-color: transparent;\n",
              "      border-right-color: var(--fill-color);\n",
              "      border-top-color: var(--fill-color);\n",
              "    }\n",
              "    60% {\n",
              "      border-color: transparent;\n",
              "      border-right-color: var(--fill-color);\n",
              "    }\n",
              "    80% {\n",
              "      border-color: transparent;\n",
              "      border-right-color: var(--fill-color);\n",
              "      border-bottom-color: var(--fill-color);\n",
              "    }\n",
              "    90% {\n",
              "      border-color: transparent;\n",
              "      border-bottom-color: var(--fill-color);\n",
              "    }\n",
              "  }\n",
              "</style>\n",
              "\n",
              "      <script>\n",
              "        async function quickchart(key) {\n",
              "          const quickchartButtonEl =\n",
              "            document.querySelector('#' + key + ' button');\n",
              "          quickchartButtonEl.disabled = true;  // To prevent multiple clicks.\n",
              "          quickchartButtonEl.classList.add('colab-df-spinner');\n",
              "          try {\n",
              "            const charts = await google.colab.kernel.invokeFunction(\n",
              "                'suggestCharts', [key], {});\n",
              "          } catch (error) {\n",
              "            console.error('Error during call to suggestCharts:', error);\n",
              "          }\n",
              "          quickchartButtonEl.classList.remove('colab-df-spinner');\n",
              "          quickchartButtonEl.classList.add('colab-df-quickchart-complete');\n",
              "        }\n",
              "        (() => {\n",
              "          let quickchartButtonEl =\n",
              "            document.querySelector('#df-2d9250f3-e55c-4174-a3e6-7dae2521f22b button');\n",
              "          quickchartButtonEl.style.display =\n",
              "            google.colab.kernel.accessAllowed ? 'block' : 'none';\n",
              "        })();\n",
              "      </script>\n",
              "    </div>\n",
              "\n",
              "    </div>\n",
              "  </div>\n"
            ],
            "application/vnd.google.colaboratory.intrinsic+json": {
              "type": "dataframe",
              "variable_name": "auto_df",
              "summary": "{\n  \"name\": \"auto_df\",\n  \"rows\": 392,\n  \"fields\": [\n    {\n      \"column\": \"mpg\",\n      \"properties\": {\n        \"dtype\": \"number\",\n        \"std\": 7.805007486571799,\n        \"min\": 9.0,\n        \"max\": 46.6,\n        \"num_unique_values\": 127,\n        \"samples\": [\n          17.5,\n          35.1,\n          28.8\n        ],\n        \"semantic_type\": \"\",\n        \"description\": \"\"\n      }\n    },\n    {\n      \"column\": \"cylinders\",\n      \"properties\": {\n        \"dtype\": \"number\",\n        \"std\": 1,\n        \"min\": 3,\n        \"max\": 8,\n        \"num_unique_values\": 5,\n        \"samples\": [\n          4,\n          5,\n          6\n        ],\n        \"semantic_type\": \"\",\n        \"description\": \"\"\n      }\n    },\n    {\n      \"column\": \"displacement\",\n      \"properties\": {\n        \"dtype\": \"number\",\n        \"std\": 104.64400390890465,\n        \"min\": 68.0,\n        \"max\": 455.0,\n        \"num_unique_values\": 81,\n        \"samples\": [\n          116.0,\n          307.0,\n          360.0\n        ],\n        \"semantic_type\": \"\",\n        \"description\": \"\"\n      }\n    },\n    {\n      \"column\": \"horsepower\",\n      \"properties\": {\n        \"dtype\": \"number\",\n        \"std\": 38.49115993282855,\n        \"min\": 46.0,\n        \"max\": 230.0,\n        \"num_unique_values\": 93,\n        \"samples\": [\n          92.0,\n          100.0,\n          52.0\n        ],\n        \"semantic_type\": \"\",\n        \"description\": \"\"\n      }\n    },\n    {\n      \"column\": \"weight\",\n      \"properties\": {\n        \"dtype\": \"number\",\n        \"std\": 849,\n        \"min\": 1613,\n        \"max\": 5140,\n        \"num_unique_values\": 346,\n        \"samples\": [\n          2472,\n          3221,\n          2700\n        ],\n        \"semantic_type\": \"\",\n        \"description\": \"\"\n      }\n    },\n    {\n      \"column\": \"acceleration\",\n      \"properties\": {\n        \"dtype\": \"number\",\n        \"std\": 2.7588641191880816,\n        \"min\": 8.0,\n        \"max\": 24.8,\n        \"num_unique_values\": 95,\n        \"samples\": [\n          14.7,\n          18.0,\n          14.3\n        ],\n        \"semantic_type\": \"\",\n        \"description\": \"\"\n      }\n    },\n    {\n      \"column\": \"year\",\n      \"properties\": {\n        \"dtype\": \"number\",\n        \"std\": 3,\n        \"min\": 70,\n        \"max\": 82,\n        \"num_unique_values\": 13,\n        \"samples\": [\n          81,\n          79,\n          70\n        ],\n        \"semantic_type\": \"\",\n        \"description\": \"\"\n      }\n    },\n    {\n      \"column\": \"origin\",\n      \"properties\": {\n        \"dtype\": \"number\",\n        \"std\": 0,\n        \"min\": 1,\n        \"max\": 3,\n        \"num_unique_values\": 3,\n        \"samples\": [\n          1,\n          3,\n          2\n        ],\n        \"semantic_type\": \"\",\n        \"description\": \"\"\n      }\n    },\n    {\n      \"column\": \"name\",\n      \"properties\": {\n        \"dtype\": \"string\",\n        \"num_unique_values\": 301,\n        \"samples\": [\n          \"subaru dl\",\n          \"buick century limited\",\n          \"plymouth horizon\"\n        ],\n        \"semantic_type\": \"\",\n        \"description\": \"\"\n      }\n    }\n  ]\n}"
            }
          },
          "metadata": {},
          "execution_count": 3
        }
      ],
      "source": [
        "# อ่านไฟล์ csv ก่อนเพื่อหา missing values\n",
        "auto_df = pd.read_csv('Auto.csv',na_values=[\"?\"])\n",
        "predictor_names = auto_df.columns\n",
        "\n",
        "# ลบแถวที่มี missing values\n",
        "auto_df = auto_df.dropna()\n",
        "auto_df.head()"
      ]
    },
    {
      "cell_type": "markdown",
      "metadata": {
        "id": "es1_uN5S94_7"
      },
      "source": [
        "### ตัวแปรต่าง ๆ มีดังนี้\n",
        "mpg\n",
        "\n",
        "    miles per gallon\n",
        "cylinders\n",
        "\n",
        "    Number of cylinders between 4 and 8\n",
        "displacement\n",
        "\n",
        "    Engine displacement (cu. inches)\n",
        "horsepower\n",
        "\n",
        "    Engine horsepower\n",
        "weight\n",
        "\n",
        "    Vehicle weight (lbs.)\n",
        "acceleration\n",
        "\n",
        "    Time to accelerate from 0 to 60 mph (sec.)\n",
        "year\n",
        "\n",
        "    Model year (modulo 100)\n",
        "origin\n",
        "\n",
        "    Origin of car (1. American, 2. European, 3. Japanese)\n",
        "name\n",
        "\n",
        "    Vehicle name\n"
      ]
    },
    {
      "cell_type": "code",
      "execution_count": null,
      "metadata": {
        "id": "XlOmwZlvQXAR"
      },
      "outputs": [],
      "source": [
        "auto_df = auto_df.drop(['name', 'origin'],axis=1)\n",
        "\n",
        "auto_df.head()"
      ]
    },
    {
      "cell_type": "markdown",
      "metadata": {
        "id": "Mo4ddcb7BZj4"
      },
      "source": [
        "## 1. Multivariate linear regression\n",
        "\n",
        "เปลี่ยน $\\texttt{dataframe}$ ให้เป็น numpy array ด้วย `dataframe.to_numpy()`\n",
        "\n",
        "1. Response: $\\texttt{y}$ เป็นคอลัมน์เวกเตอร์ของ `mpg`\n",
        "2. Predictors: $\\texttt{X}$ เป็นเมทริกซ์ของตัวแปรที่เหลือ (ใช้ `auto_df.drop`)\n"
      ]
    },
    {
      "cell_type": "code",
      "execution_count": 4,
      "metadata": {
        "id": "6njJmujsAUNv"
      },
      "outputs": [],
      "source": [
        "y = auto_df['mpg'].to_numpy()\n",
        "X = auto_df.drop(['mpg'],axis=1).to_numpy()"
      ]
    },
    {
      "cell_type": "markdown",
      "metadata": {
        "id": "H5CxnhqJEmUN"
      },
      "source": [
        "คอลัมน์แรกของ $\\texttt{X}$ ต้องเป็น $(1, 1, \\ldots ,1 )^T$ (จำนวนเลข 1 เท่ากับจำนวนแถวของ $\\texttt{X}$)  \n",
        "สร้างเวกเตอร์ที่มีแต่เลข 1 และมีความยาวที่เหมาะสมด้วยคำสั่งใดคำสั่งหนึ่งต่อไปนี้  \n",
        "1. $\\texttt{[1]*X.shape[0]}$  \n",
        "2. $\\texttt{np.ones(X.shape[0])}$  "
      ]
    },
    {
      "cell_type": "code",
      "execution_count": 5,
      "metadata": {
        "id": "zoO80UAEm6g5",
        "colab": {
          "base_uri": "https://localhost:8080/"
        },
        "outputId": "1ecb1715-27b2-47ca-b1b9-a33dafb5375c"
      },
      "outputs": [
        {
          "output_type": "execute_result",
          "data": {
            "text/plain": [
              "(392, 8)"
            ]
          },
          "metadata": {},
          "execution_count": 5
        }
      ],
      "source": [
        "X.shape"
      ]
    },
    {
      "cell_type": "code",
      "execution_count": 6,
      "metadata": {
        "id": "kD8uzgohDRIX"
      },
      "outputs": [],
      "source": [
        "ones =  [1]*X.shape[0] #your answer here\n",
        "\n",
        "# ใส่ ones ให้เป็นคอลัมน์แรกของ X\n",
        "X = np.c_[ones,X]"
      ]
    },
    {
      "cell_type": "code",
      "execution_count": 7,
      "metadata": {
        "id": "yyk9EnXdD0ZU",
        "colab": {
          "base_uri": "https://localhost:8080/"
        },
        "outputId": "bfcdf3b8-044b-42fb-e36b-babb35857f3f"
      },
      "outputs": [
        {
          "output_type": "stream",
          "name": "stdout",
          "text": [
            "[[1 8 307.0 ... 70 1 'chevrolet chevelle malibu']\n",
            " [1 8 350.0 ... 70 1 'buick skylark 320']\n",
            " [1 8 318.0 ... 70 1 'plymouth satellite']\n",
            " ...\n",
            " [1 4 135.0 ... 82 1 'dodge rampage']\n",
            " [1 4 120.0 ... 82 1 'ford ranger']\n",
            " [1 4 119.0 ... 82 1 'chevy s-10']]\n"
          ]
        }
      ],
      "source": [
        "#เช็คคำตอบ\n",
        "print(X)"
      ]
    },
    {
      "cell_type": "markdown",
      "metadata": {
        "id": "kW8UQjrfR892"
      },
      "source": [
        "### Exercise 1: จงเขียนฟังก์ชันต่อไปนี้\n",
        "1. `linear_model` มี input เป็นแมทริกซ์ `X` เวกเตอร์ `y` และ output เป็นเวกเตอร์ของสัมประสิทธิ์\n",
        "2. `predict` มี input เป็นแมทริกซ์ `X` เวกเตอร์ของสัมประสิทธิ์ `beta` และ output เป็นเวกเตอร์ของค่าทำนาย `y_pred`"
      ]
    },
    {
      "cell_type": "markdown",
      "metadata": {
        "id": "DntRinCFiSMx"
      },
      "source": [
        "1. Matrix multiplication $AB = \\texttt{A@B}$\n",
        "2. Transpose: $X^T = \\texttt{X.T}$\n",
        "3. Inverse: $X^{-1} = \\texttt{np.linalg.inv(X)}$\n",
        "\n",
        "$$ \\hat{\\beta} = (X^TX)^{-1}X^Ty $$"
      ]
    },
    {
      "cell_type": "code",
      "execution_count": 23,
      "metadata": {
        "id": "-gCRXKb8fkuH",
        "colab": {
          "base_uri": "https://localhost:8080/"
        },
        "outputId": "22d324a8-7960-4e40-da6a-c37e143a6b8f"
      },
      "outputs": [
        {
          "output_type": "stream",
          "name": "stdout",
          "text": [
            "Coefficients are: [-1.72184346e+01 -4.93376319e-01  1.98956437e-02 -1.69511442e-02\n",
            " -6.47404340e-03  8.05758383e-02  7.50772678e-01  1.42614050e+00]\n",
            "Predictions are: [15.00095865 13.99929917 15.24044696 15.06190592 14.96717762 10.69562338\n",
            " 10.6553509  10.69318951 10.21140958 13.11319398 15.29186157 14.14690266\n",
            " 14.64696189 18.88015369 24.13062472 19.03847473 19.40643664 20.88068005\n",
            " 25.45738302 27.13648841 21.03963303 22.25408365 22.7074409  23.25050717\n",
            " 20.3005362   7.58306997  8.41074023  8.30037285  6.44696729 26.20815569\n",
            " 23.39053912 25.73308381 21.46783861 16.23364804 17.52793963 17.90615253\n",
            " 17.43525382 11.44975337 10.58385513 12.14999889 11.87950268  6.98211816\n",
            "  8.88321853  6.24768971 19.73241559 23.0454129  17.79193175 18.88084577\n",
            " 23.26421626 25.13116053 25.49443983 25.22718096 28.75457004 29.66193221\n",
            " 27.53555535 25.15803406 26.28101808 24.47954013 26.03152794 23.5313529\n",
            " 24.17758427 11.77971323 11.88636515 12.41807558 13.02233473 14.97586698\n",
            " 10.21781246 10.59400653 10.80705681 11.4328463  25.38717749 13.63215327\n",
            " 12.81807391 11.44132342 12.83385802 20.40479902 24.02910196 20.91375517\n",
            " 25.73501085 23.04318302 26.06966453 24.82972756 24.08232262 27.31430135\n",
            " 13.56803385 15.72663966 14.80166104 13.75354471 15.40597996  9.11316466\n",
            " 12.54946701 12.17342553 12.58907167 10.40842679  9.13895663 15.41209672\n",
            " 19.87451504 19.5611008  21.19768398 21.30747992 20.8714236  28.68457937\n",
            "  9.25995356  9.44005829 10.26512597 10.8598469  22.12705892 27.10765986\n",
            " 24.63256448 26.37596114 27.59026112 24.56264013 22.44813226 25.47613389\n",
            " 14.19310096 12.19610795 28.47323412 26.78124528 23.60437753 21.65696035\n",
            " 17.7323046  22.91659991 22.85694927 16.14480938 20.3806236  22.23331457\n",
            " 19.85580312 29.98624525 24.32417673 30.76017502 24.21820401 16.97485381\n",
            " 18.00971582 17.44005836 13.77224574 10.9854969  11.83497896 10.71579784\n",
            " 13.01240031 26.72394641 28.19392676 26.1032573  31.92807295 29.82441039\n",
            " 25.72165832 27.33843339 26.84143838 26.48161957 26.9854206  27.99467507\n",
            " 20.57949571 19.6449369  20.78200302 22.43502716 12.35099671 13.45751462\n",
            " 12.4008917  11.98140149 16.6846717  17.01074549 18.20660808 17.44824662\n",
            " 21.82068634 20.151559   20.84109951 29.28703926 24.20538532 22.89992468\n",
            " 24.71528484 26.02804741 27.4930715  27.01110186 21.16309705 29.16015946\n",
            " 21.22722108 24.41349693 23.09011142 22.81674455 24.22188715 32.09569464\n",
            " 26.68698266 28.64327193 25.06814935 26.73078129 28.29854643 14.77382297\n",
            " 15.02480599 16.80340145 15.46949369 21.39786251 20.96109442 22.83057359\n",
            " 22.84206873 28.71669964 27.99652467 29.9270473  32.83840974 18.8770368\n",
            " 20.51175467 19.12289695 22.59151822 30.61330685 31.13619763 30.17362697\n",
            " 25.34774195 22.44828555 16.659432   22.20933012 24.71142766 17.65541354\n",
            " 13.85034576 16.53964233 17.27834413 17.9215907  31.94430733 28.1369806\n",
            " 31.74200818 27.20228117 32.16218709 17.56835655 16.62475777 16.24043964\n",
            " 15.26959078 20.69904022 21.06110075 19.76376439 21.07958092 16.55117173\n",
            " 16.10614612 15.79051915 15.63121352 30.68623095 25.10657282 30.35729138\n",
            " 24.75754377 29.01707404 28.4340407  32.16059618 29.03548977 26.11364564\n",
            " 26.21144222 26.59475552 32.07896737 31.132481   33.0293463  32.24874085\n",
            " 34.10835103 21.59297517 19.6576677  20.39227537 21.28505309 23.21736023\n",
            " 24.4235579  25.71962878 21.76905783 23.50212832 22.01457196 23.8163016\n",
            " 20.4903419  22.04686279 21.32122206 20.38330848 22.62637987 17.46441064\n",
            " 28.96950257 29.27303384 30.66423609 28.34340913 29.61271129 25.69268713\n",
            " 25.29260528 30.0005767  25.54720814 23.12528937 25.84869065 21.41895534\n",
            " 31.10502466 31.95932201 23.43759872 25.20586151 25.52290817 23.97740445\n",
            " 22.7551566  19.81680074 20.35742826 19.67460936 20.03931365 16.88153561\n",
            " 19.05450791 20.63469186 19.73125191 32.2040919  33.44524117 30.90142267\n",
            " 26.51946521 23.57987219 20.5695695  25.91921953 22.86655646 29.26841024\n",
            " 29.72909134 33.45631692 31.00700967 27.02739892 26.16141866 25.61056544\n",
            " 27.53982752 31.68775723 34.67584782 30.58316132 34.00784694 27.76666717\n",
            " 26.46762239 25.95267609 23.87820651 31.43773481 29.98650295 31.21749611\n",
            " 31.40718811 32.58673398 33.53957275 26.65283567 33.6244257  32.94922355\n",
            " 31.49186438 27.0054564  26.20710489 34.95803903 33.50598861 33.73009694\n",
            " 27.34555857 30.67926574 29.68930984 32.60087719 29.4534759  28.889473\n",
            " 28.78930104 27.01084268 29.90763811 36.4874435  32.85555202 36.39650161\n",
            " 34.75856959 35.2653094  34.74098289 34.99513155 30.92848188 31.96064606\n",
            " 30.15443279 32.27360779 33.60922273 32.91613431 30.83443461 31.44759457\n",
            " 26.65470916 26.20406605 28.52898099 27.92594196 23.95554276 23.67201668\n",
            " 26.11473697 24.000706   29.24857498 28.94140762 30.47920275 29.21969186\n",
            " 30.00182981 29.02005581 27.79675446 34.472563   35.66420933 35.97193622\n",
            " 32.2458033  32.19737296 34.73003365 34.40042321 34.43949485 35.8117604\n",
            " 35.86816348 35.7142301  26.80267915 28.43316736 29.77472282 28.35862054\n",
            " 31.75418253 30.76357903 27.5717334  28.31955391 34.46457181 31.13632611\n",
            " 29.35024372 28.72892119]\n"
          ]
        }
      ],
      "source": [
        "# Let's start by implementing linear regression from scratch\n",
        "# using the formula provided in the class\n",
        "\n",
        "y = auto_df['mpg']\n",
        "X = auto_df.drop(columns=['mpg', 'name'])\n",
        "\n",
        "X.insert(0, 'intercept', 1)\n",
        "\n",
        "X = np.array(X, dtype=float)\n",
        "y = np.array(y, dtype=float)\n",
        "\n",
        "def linear_model(X, y):\n",
        "    \"\"\"X: เมทริกซ์ของตัวแปรต้น\"\"\"\n",
        "    \"\"\"y: เวกเตอร์ของตัวแปรตาม\"\"\"\n",
        "    \"\"\"Return: เวกเตอร์ของ parameter beta จากการสร้าง linear regressions model\n",
        "    ด้วย Ordinary Least Squares (OLS)\"\"\"\n",
        "    # TODO: your code here\n",
        "\n",
        "    X = np.array(X, dtype=float)\n",
        "    y = np.array(y, dtype=float)\n",
        "\n",
        "    XT = X.T\n",
        "    beta = np.linalg.inv(XT @ X) @ (XT @ y)\n",
        "\n",
        "    return beta\n",
        "\n",
        "\n",
        "def predict(X, beta):\n",
        "    \"\"\"beta: array ของสัมประสิทธิ์\"\"\"\n",
        "    \"\"\"X: เมทริกซ์ของตัวแปรต้น\"\"\"\n",
        "    \"\"\"Return: ค่าทำนาย y_pred = X*beta \"\"\"\n",
        "    # TODO: your code here\n",
        "    y_pred = X @ beta\n",
        "\n",
        "    return y_pred\n",
        "\n",
        "beta = linear_model(X, y)\n",
        "y_pred = predict(X, beta)\n",
        "\n",
        "print(\"Coefficients are:\", beta)\n",
        "print(\"Predictions are:\", y_pred)"
      ]
    },
    {
      "cell_type": "markdown",
      "metadata": {
        "id": "L1UMYiD5q5bq"
      },
      "source": [
        "#### จงหา $n$ (จำนวนแถวของ $\\texttt{X}$) และ $p$ (จำนวนตัวแปร) ด้วย method $\\texttt{X.shape[...]}$"
      ]
    },
    {
      "cell_type": "code",
      "execution_count": 24,
      "metadata": {
        "id": "_vthb9XCiYfo",
        "colab": {
          "base_uri": "https://localhost:8080/"
        },
        "outputId": "e0d7f6af-5cee-498b-b076-926a7e198766"
      },
      "outputs": [
        {
          "output_type": "stream",
          "name": "stdout",
          "text": [
            "Number of observations: 392\n",
            "Number of variables: 7\n"
          ]
        }
      ],
      "source": [
        "n = X.shape[0]\n",
        "\n",
        "p = X.shape[1]-1\n",
        "\n",
        "print('Number of observations:', n)\n",
        "print('Number of variables:', p)"
      ]
    },
    {
      "cell_type": "markdown",
      "metadata": {
        "id": "HOtYKzCDR893"
      },
      "source": [
        "## 2. F-statistic\n",
        "\n",
        "### Exercise 2: เขียนสมมติฐานหลัก ($H_0$) และสมมติฐานแย้ง ($H_a$) ที่ใช้ F-statistic ในการทดสอบ"
      ]
    },
    {
      "cell_type": "markdown",
      "source": [
        "สมมติฐานหลัก (Null Hypothesis, H₀)\n",
        "ทุกสัมประสิทธิ์ของตัวแปรต้น ไม่ต่างจากศูนย์ (ไม่มีตัวแปรใดมีผลต่อ y)\n",
        "H₀ : β1=β2==βp=0\n",
        "\n",
        "สมมติฐานแย้ง (Alternative Hypothesis, Hₐ)\n",
        "อย่างน้อยหนึ่งตัวแปรต้นมีผลต่อ y (สัมประสิทธิ์ ≠ 0)\n",
        "Hₐ : อย่างน้อยหนึ่ง βⱼ ≠ 0, j=1,...,p"
      ],
      "metadata": {
        "id": "nFkjkWK0bhA_"
      }
    },
    {
      "cell_type": "markdown",
      "metadata": {
        "id": "uRlEKBd3R893"
      },
      "source": [
        "### Exercise 3: จากเวกเตอร์ของ outcomes `y` คำนวณ Total Sum of Squares (TSS)"
      ]
    },
    {
      "cell_type": "markdown",
      "metadata": {
        "id": "wbRqP-L9qFRX"
      },
      "source": [
        "$$ \\text{TSS} = \\sum_{i=1}^n (y_i-\\bar{y})^2 $$\n",
        "\n",
        "$$ \\text{RSS} = \\sum_{i=1}^n (y_i-\\hat{y})^2 $$\n",
        "โดยใช้คำสั่งต่อไปนี้\n",
        "\n",
        "$\\texttt{np.sum}([y_1,y_2,...,y_n])=y_1+y_2+...+y_n$\n",
        "\n",
        "$\\texttt{np.square}([y_1,y_2,...,y_n])=[y_1^2,y^2_2,...,y^2_n]$"
      ]
    },
    {
      "cell_type": "code",
      "execution_count": 27,
      "metadata": {
        "id": "pYAI-2fhqFvx",
        "colab": {
          "base_uri": "https://localhost:8080/"
        },
        "outputId": "a1e9c500-7f96-4e13-b146-a088c01b4a76"
      },
      "outputs": [
        {
          "output_type": "stream",
          "name": "stdout",
          "text": [
            "Total Sum of Squares (TSS): 23818.99346938776\n",
            "Residual Sum of Squares (RSS): 4252.212530440178\n"
          ]
        }
      ],
      "source": [
        "# Calculate Total Sum of Squares\n",
        "y_mean = y.mean()\n",
        "\n",
        "# TODO: your code here\n",
        "TSS = np.sum(np.square(y - y_mean))\n",
        "\n",
        "RSS = np.sum(np.square(y-y_pred))\n",
        "print(\"Total Sum of Squares (TSS):\", TSS)\n",
        "print(\"Residual Sum of Squares (RSS):\", RSS)"
      ]
    },
    {
      "cell_type": "markdown",
      "metadata": {
        "id": "COSxovBLMkr8"
      },
      "source": [
        "คำนวณ $F$-statistic ด้วย\n",
        "$$F_{p,n-p-1} = \\frac{(\\text{TSS}-\\text{RSS})/p}{\\text{RSS}/(n-p-1)}$$\n",
        "หา $n$ และจำนวนของตัวแปร $p$ ด้วย $\\texttt{X.shape}[\\cdot]$"
      ]
    },
    {
      "cell_type": "markdown",
      "metadata": {
        "id": "mzAhcKbjR893"
      },
      "source": [
        "### Exercise 4: คำนวณค่า F"
      ]
    },
    {
      "cell_type": "code",
      "execution_count": 28,
      "metadata": {
        "id": "m7qCrrgpPiy9",
        "colab": {
          "base_uri": "https://localhost:8080/"
        },
        "outputId": "ecc6b569-b1f4-4c1b-b607-0b1f3830046a"
      },
      "outputs": [
        {
          "output_type": "stream",
          "name": "stdout",
          "text": [
            "252.42804529131897\n"
          ]
        }
      ],
      "source": [
        "F = ((TSS - RSS)/p) / (RSS / (n - p - 1))\n",
        "\n",
        "print(F)"
      ]
    },
    {
      "cell_type": "code",
      "execution_count": 29,
      "metadata": {
        "id": "4OcMtqBPQI5V",
        "colab": {
          "base_uri": "https://localhost:8080/"
        },
        "outputId": "8b75a451-c979-4244-8b81-c21430f1f84c"
      },
      "outputs": [
        {
          "output_type": "stream",
          "name": "stdout",
          "text": [
            "2.0371059307552074e-139\n"
          ]
        }
      ],
      "source": [
        "# Compute p_value of the F-statistic\n",
        "\n",
        "p_value = stats.f.sf(F, p, n-p-1)\n",
        "\n",
        "print(p_value)"
      ]
    },
    {
      "cell_type": "markdown",
      "metadata": {
        "id": "x5ymukiLQuTt"
      },
      "source": [
        "### Exercise 5: จากการทดสอบสมมติฐานที่นัยสำคัญ 0.05 เราได้ข้อสรุปอย่างไรจากค่า p-value ที่ได้ข้างบน"
      ]
    },
    {
      "cell_type": "markdown",
      "metadata": {
        "id": "fxz0W6YlRyTj"
      },
      "source": [
        "### คำตอบของ Exercise 5:\n",
        "\n",
        "\n"
      ]
    },
    {
      "cell_type": "markdown",
      "metadata": {
        "id": "iLm_WXA7ryIl"
      },
      "source": [
        "## 3. คำนวณ $t$-statistic\n",
        "\n",
        "#### ขั้นตอนในการคำนวณ $t$-statistic\n",
        "\n",
        "\\begin{align*}\n",
        "\\text{RSE} &= \\sqrt{\\frac{\\text{RSS}}{n-p-1}} \\\\\n",
        "\\text{SE}(\\hat{\\beta}) &=\\text{RSE}\\cdot\\sqrt{\\text{diag}\\left( (X^TX)^{-1}\\right)} \\\\\n",
        "t &= \\frac{\\hat{\\beta}}{\\text{SE}(\\hat{\\beta})}\n",
        "\\end{align*}"
      ]
    },
    {
      "cell_type": "code",
      "execution_count": 33,
      "metadata": {
        "id": "IJwkRoYlt8U_",
        "colab": {
          "base_uri": "https://localhost:8080/"
        },
        "outputId": "6ea8c68d-b962-44e1-cb05-a21089338949"
      },
      "outputs": [
        {
          "output_type": "stream",
          "name": "stdout",
          "text": [
            "2.0371059307552074e-139\n"
          ]
        }
      ],
      "source": [
        "n = X.shape[0]\n",
        "p = X.shape[1] - 1\n",
        "\n",
        "RSE = np.sqrt(RSS / (n - p - 1))\n",
        "\n",
        "XTX_inv = np.linalg.inv(X.T @ X)\n",
        "SE_beta = RSE * np.sqrt(np.diag(XTX_inv))\n",
        "\n",
        "t = beta / SE_beta\n",
        "\n",
        "p_values = t_to_p_values(t)\n",
        "print(p_value)"
      ]
    },
    {
      "cell_type": "markdown",
      "metadata": {
        "id": "2vEaDENRR894"
      },
      "source": [
        "### Exercise 6: จงใช้ฟังก์ชัน `t_to_p_values` ในการหาว่ามีตัวแปรใดบ้างที่มีค่า p-value น้อยกว่า 0.05 **แล้วระบุตัวแปรทั้งหมดใน text block ข้างล่าง**  \n",
        "\n",
        "#### ใช้คำสั่ง `A.diagonal()` เพื่อดึงค่าในแนวทแยงของ `A`"
      ]
    },
    {
      "cell_type": "code",
      "execution_count": 47,
      "metadata": {
        "id": "tqmOPP4ctv7S",
        "colab": {
          "base_uri": "https://localhost:8080/"
        },
        "outputId": "925e9541-3ef4-439a-f6f1-77347cd43228"
      },
      "outputs": [
        {
          "output_type": "stream",
          "name": "stdout",
          "text": [
            "Variables with p-value < 0.05:\n",
            "Index(['intercept', 'displacement', 'weight', 'year', 'origin'], dtype='object')\n"
          ]
        }
      ],
      "source": [
        "# TODO: your code here\n",
        "predictor_names = X_df.columns\n",
        "\n",
        "\n",
        "X = np.array(X_df, dtype=float)\n",
        "\n",
        "\n",
        "RSE = np.sqrt(RSS / (n - p - 1))\n",
        "\n",
        "\n",
        "XTX_inv = np.linalg.inv(X.T @ X)\n",
        "SE = RSE * np.sqrt(XTX_inv.diagonal())\n",
        "\n",
        "\n",
        "t = beta / SE\n",
        "\n",
        "\n",
        "p_values = t_to_p_values(t)\n",
        "\n",
        "\n",
        "significant_vars = predictor_names[p_values < 0.05]\n",
        "\n",
        "\n",
        "print(\"Variables with p-value < 0.05:\")\n",
        "print(significant_vars)"
      ]
    },
    {
      "cell_type": "markdown",
      "source": [
        "intercept\n",
        "\n",
        "displacement\n",
        "\n",
        "weight\n",
        "\n",
        "year\n",
        "\n",
        "origin"
      ],
      "metadata": {
        "id": "FSzTMD19nW8x"
      }
    },
    {
      "cell_type": "markdown",
      "metadata": {
        "id": "mtraIq8PR894"
      },
      "source": [
        "list ชื่อตัวแปร"
      ]
    },
    {
      "cell_type": "code",
      "execution_count": 35,
      "metadata": {
        "id": "u20FdvuUR894",
        "colab": {
          "base_uri": "https://localhost:8080/"
        },
        "outputId": "d6eea758-765d-4a13-dbe0-fcbd7591dccf"
      },
      "outputs": [
        {
          "output_type": "stream",
          "name": "stdout",
          "text": [
            "List of predictors: Index(['cylinders', 'displacement', 'horsepower', 'weight', 'acceleration',\n",
            "       'year'],\n",
            "      dtype='object')\n"
          ]
        }
      ],
      "source": [
        "print(\"List of predictors:\", predictor_names[1:-2])"
      ]
    },
    {
      "cell_type": "markdown",
      "metadata": {
        "id": "61K108Bjcjw5"
      },
      "source": [
        "### คำตอบของ Exercise 6:\n",
        "\n",
        "\n",
        "\n"
      ]
    },
    {
      "cell_type": "markdown",
      "metadata": {
        "id": "kvxBs5Hlk5rZ"
      },
      "source": [
        "## 4. Variable selection\n",
        "\n",
        "#### statsmodels library สามารถคำนวณค่าต่างๆ เหล่านี้ได้ ผลที่แสดงจะคล้ายกับใน R  \n",
        "#### มีสองวิธึในการทำ linear regression: $\\texttt{statsmodels.api.sm.OLS}$\n",
        "#### และ $\\texttt{statsmodels.formula.api.smf.ols}$"
      ]
    },
    {
      "cell_type": "code",
      "source": [
        "import statsmodels.api as sm\n",
        "X = auto_df.select_dtypes(include=[np.number]).drop(['mpg'], axis=1)\n",
        "X = sm.add_constant(X)\n",
        "y = auto_df['mpg']\n",
        "model = sm.OLS(y, X).fit()\n",
        "print(model.summary())"
      ],
      "metadata": {
        "colab": {
          "base_uri": "https://localhost:8080/"
        },
        "id": "WyUgfAY2oT26",
        "outputId": "38c323c3-eb5a-48da-9fad-bd4760f0a132"
      },
      "execution_count": 50,
      "outputs": [
        {
          "output_type": "stream",
          "name": "stdout",
          "text": [
            "                            OLS Regression Results                            \n",
            "==============================================================================\n",
            "Dep. Variable:                    mpg   R-squared:                       0.821\n",
            "Model:                            OLS   Adj. R-squared:                  0.818\n",
            "Method:                 Least Squares   F-statistic:                     252.4\n",
            "Date:                Wed, 13 Aug 2025   Prob (F-statistic):          2.04e-139\n",
            "Time:                        08:53:12   Log-Likelihood:                -1023.5\n",
            "No. Observations:                 392   AIC:                             2063.\n",
            "Df Residuals:                     384   BIC:                             2095.\n",
            "Df Model:                           7                                         \n",
            "Covariance Type:            nonrobust                                         \n",
            "================================================================================\n",
            "                   coef    std err          t      P>|t|      [0.025      0.975]\n",
            "--------------------------------------------------------------------------------\n",
            "const          -17.2184      4.644     -3.707      0.000     -26.350      -8.087\n",
            "cylinders       -0.4934      0.323     -1.526      0.128      -1.129       0.142\n",
            "displacement     0.0199      0.008      2.647      0.008       0.005       0.035\n",
            "horsepower      -0.0170      0.014     -1.230      0.220      -0.044       0.010\n",
            "weight          -0.0065      0.001     -9.929      0.000      -0.008      -0.005\n",
            "acceleration     0.0806      0.099      0.815      0.415      -0.114       0.275\n",
            "year             0.7508      0.051     14.729      0.000       0.651       0.851\n",
            "origin           1.4261      0.278      5.127      0.000       0.879       1.973\n",
            "==============================================================================\n",
            "Omnibus:                       31.906   Durbin-Watson:                   1.309\n",
            "Prob(Omnibus):                  0.000   Jarque-Bera (JB):               53.100\n",
            "Skew:                           0.529   Prob(JB):                     2.95e-12\n",
            "Kurtosis:                       4.460   Cond. No.                     8.59e+04\n",
            "==============================================================================\n",
            "\n",
            "Notes:\n",
            "[1] Standard Errors assume that the covariance matrix of the errors is correctly specified.\n",
            "[2] The condition number is large, 8.59e+04. This might indicate that there are\n",
            "strong multicollinearity or other numerical problems.\n"
          ]
        }
      ]
    },
    {
      "cell_type": "code",
      "execution_count": 51,
      "metadata": {
        "id": "IBxia0o3R896",
        "colab": {
          "base_uri": "https://localhost:8080/"
        },
        "outputId": "4538b57b-a3a0-4643-8f34-df80df30f975"
      },
      "outputs": [
        {
          "output_type": "stream",
          "name": "stdout",
          "text": [
            "                            OLS Regression Results                            \n",
            "==============================================================================\n",
            "Dep. Variable:                    mpg   R-squared:                       0.809\n",
            "Model:                            OLS   Adj. R-squared:                  0.806\n",
            "Method:                 Least Squares   F-statistic:                     272.2\n",
            "Date:                Wed, 13 Aug 2025   Prob (F-statistic):          3.79e-135\n",
            "Time:                        08:53:39   Log-Likelihood:                -1036.5\n",
            "No. Observations:                 392   AIC:                             2087.\n",
            "Df Residuals:                     385   BIC:                             2115.\n",
            "Df Model:                           6                                         \n",
            "Covariance Type:            nonrobust                                         \n",
            "================================================================================\n",
            "                   coef    std err          t      P>|t|      [0.025      0.975]\n",
            "--------------------------------------------------------------------------------\n",
            "Intercept      -14.5353      4.764     -3.051      0.002     -23.902      -5.169\n",
            "cylinders       -0.3299      0.332     -0.993      0.321      -0.983       0.323\n",
            "displacement     0.0077      0.007      1.044      0.297      -0.007       0.022\n",
            "horsepower      -0.0004      0.014     -0.028      0.977      -0.028       0.027\n",
            "weight          -0.0068      0.001    -10.141      0.000      -0.008      -0.005\n",
            "acceleration     0.0853      0.102      0.836      0.404      -0.115       0.286\n",
            "year             0.7534      0.053     14.318      0.000       0.650       0.857\n",
            "==============================================================================\n",
            "Omnibus:                       37.865   Durbin-Watson:                   1.232\n",
            "Prob(Omnibus):                  0.000   Jarque-Bera (JB):               60.248\n",
            "Skew:                           0.630   Prob(JB):                     8.26e-14\n",
            "Kurtosis:                       4.449   Cond. No.                     8.53e+04\n",
            "==============================================================================\n",
            "\n",
            "Notes:\n",
            "[1] Standard Errors assume that the covariance matrix of the errors is correctly specified.\n",
            "[2] The condition number is large, 8.53e+04. This might indicate that there are\n",
            "strong multicollinearity or other numerical problems.\n"
          ]
        }
      ],
      "source": [
        "import statsmodels.formula.api as smf\n",
        "\n",
        "model2 = smf.ols('mpg ~ cylinders + displacement + horsepower + weight + acceleration + year', auto_df)\n",
        "model2 = model2.fit()\n",
        "print(model2.summary())"
      ]
    },
    {
      "cell_type": "markdown",
      "metadata": {
        "id": "8ae3b6Q0R89_"
      },
      "source": [
        "### Exercise 7: ใช้ Backward selection ในการเลือกตัวแปร โดยที่เราจะหยุดเมื่อ p-value สของตัวแปรทุกตัว < 0.05 แล้วเขียนสมการของโมเดลที่ได้"
      ]
    },
    {
      "cell_type": "code",
      "execution_count": 53,
      "metadata": {
        "id": "JVfRIiXCR89_"
      },
      "outputs": [],
      "source": [
        "# Block for running your own code\n",
        "predictors = ['cylinders', 'displacement', 'horsepower', 'weight', 'acceleration', 'year', 'origin']  # ปรับตาม dataset\n",
        "formula = 'mpg ~ ' + ' + '.join(predictors)"
      ]
    },
    {
      "cell_type": "code",
      "execution_count": 54,
      "metadata": {
        "id": "gJxSIDrPR89_",
        "colab": {
          "base_uri": "https://localhost:8080/"
        },
        "outputId": "4d27bd67-7499-4a15-a14b-585ab6d96bf5"
      },
      "outputs": [
        {
          "output_type": "stream",
          "name": "stdout",
          "text": [
            "                            OLS Regression Results                            \n",
            "==============================================================================\n",
            "Dep. Variable:                    mpg   R-squared:                       0.820\n",
            "Model:                            OLS   Adj. R-squared:                  0.818\n",
            "Method:                 Least Squares   F-statistic:                     351.7\n",
            "Date:                Wed, 13 Aug 2025   Prob (F-statistic):          2.73e-141\n",
            "Time:                        08:57:15   Log-Likelihood:                -1025.1\n",
            "No. Observations:                 392   AIC:                             2062.\n",
            "Df Residuals:                     386   BIC:                             2086.\n",
            "Df Model:                           5                                         \n",
            "Covariance Type:            nonrobust                                         \n",
            "================================================================================\n",
            "                   coef    std err          t      P>|t|      [0.025      0.975]\n",
            "--------------------------------------------------------------------------------\n",
            "Intercept      -16.6939      4.120     -4.051      0.000     -24.795      -8.592\n",
            "displacement     0.0114      0.006      2.054      0.041       0.000       0.022\n",
            "horsepower      -0.0219      0.011     -2.033      0.043      -0.043      -0.001\n",
            "weight          -0.0063      0.001    -11.124      0.000      -0.007      -0.005\n",
            "year             0.7484      0.051     14.707      0.000       0.648       0.848\n",
            "origin           1.3853      0.277      4.998      0.000       0.840       1.930\n",
            "==============================================================================\n",
            "Omnibus:                       34.200   Durbin-Watson:                   1.295\n",
            "Prob(Omnibus):                  0.000   Jarque-Bera (JB):               58.468\n",
            "Skew:                           0.552   Prob(JB):                     2.01e-13\n",
            "Kurtosis:                       4.536   Cond. No.                     7.61e+04\n",
            "==============================================================================\n",
            "\n",
            "Notes:\n",
            "[1] Standard Errors assume that the covariance matrix of the errors is correctly specified.\n",
            "[2] The condition number is large, 7.61e+04. This might indicate that there are\n",
            "strong multicollinearity or other numerical problems.\n"
          ]
        }
      ],
      "source": [
        "# If you want to write with for-loop\n",
        "while True:\n",
        "    model = smf.ols(formula, data=auto_df).fit()\n",
        "    p_values = model.pvalues.drop('Intercept')\n",
        "    max_p = p_values.max()\n",
        "\n",
        "    if max_p < 0.05:\n",
        "        break\n",
        "    else:\n",
        "        worst_feature = p_values.idxmax()\n",
        "        predictors.remove(worst_feature)\n",
        "        formula = 'mpg ~ ' + ' + '.join(predictors)\n",
        "\n",
        "\n",
        "final_model = smf.ols(formula, data=auto_df).fit()\n",
        "print(final_model.summary())"
      ]
    },
    {
      "cell_type": "markdown",
      "metadata": {
        "id": "38hB3tQ7R8-A"
      },
      "source": [
        "### คำตอบของ Exercise 7:\n",
        "\n",
        "$$\n",
        "y =\n",
        "$$"
      ]
    },
    {
      "cell_type": "markdown",
      "source": [
        "ŷ = β0 + β1 ⋅ displacement + β2 ⋅ weight + β3 ⋅ year + β4 ⋅ origin"
      ],
      "metadata": {
        "id": "di_RQf7jp2kQ"
      }
    }
  ],
  "metadata": {
    "colab": {
      "provenance": [],
      "include_colab_link": true
    },
    "kernelspec": {
      "display_name": "Python 3 (ipykernel)",
      "language": "python",
      "name": "python3"
    },
    "language_info": {
      "codemirror_mode": {
        "name": "ipython",
        "version": 3
      },
      "file_extension": ".py",
      "mimetype": "text/x-python",
      "name": "python",
      "nbconvert_exporter": "python",
      "pygments_lexer": "ipython3",
      "version": "3.10.12"
    }
  },
  "nbformat": 4,
  "nbformat_minor": 0
}